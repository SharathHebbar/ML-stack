{
  "nbformat": 4,
  "nbformat_minor": 0,
  "metadata": {
    "colab": {
      "provenance": []
    },
    "kernelspec": {
      "name": "python3",
      "display_name": "Python 3"
    },
    "language_info": {
      "name": "python"
    }
  },
  "cells": [
    {
      "cell_type": "markdown",
      "source": [
        "# Importing Libraries"
      ],
      "metadata": {
        "id": "CZ8eblp_S5PU"
      }
    },
    {
      "cell_type": "code",
      "execution_count": 3,
      "metadata": {
        "id": "Jp0ompKHSzn_"
      },
      "outputs": [],
      "source": [
        "import re"
      ]
    },
    {
      "cell_type": "code",
      "source": [
        "text = \"\"\"Diwali (English: /dɪˈwɑːliː/; Deepavali[3] (IAST: dīpāvalī) or Divali;[a]) is the Hindu festival of lights with its variations also celebrated in other Indian religions. It symbolises the spiritual \"victory of light over darkness, good over evil, and knowledge over ignorance\".[4][5][6][7] Diwali is celebrated during the Hindu lunisolar months of Ashvin (according to the amanta tradition) and Kartika—between around mid-September and mid-November.[8][9][10][11] The celebrations generally last five or six days.[12][13]\n",
        "Diwali is connected to various religious events, deities and personalities, such as being the day Rama returned to his kingdom in Ayodhya with his wife Sita and his brother Lakshmana after defeating the demon king Ravana.[14] It is also widely associated with Lakshmi, the goddess of prosperity, and Ganesha, the god of wisdom and the remover of obstacles.[15] Other regional traditions connect the holiday to Vishnu, Krishna, Durga, Shiva, Kali, Hanuman, Kubera, Yama, Yami, Dhanvantari, or Vishvakarman.\"\"\""
      ],
      "metadata": {
        "id": "VlQ2IgTnUKFT"
      },
      "execution_count": 9,
      "outputs": []
    },
    {
      "cell_type": "markdown",
      "source": [
        "# Sentence Segmentation"
      ],
      "metadata": {
        "id": "9CQjoC0BS8NS"
      }
    },
    {
      "cell_type": "code",
      "source": [
        "def segment_sentences(text):\n",
        "  sentences = re.split(\"(?<=[.!?]) +\", text)\n",
        "  return [sentence.strip() for sentence in sentences]"
      ],
      "metadata": {
        "id": "I1cqtdPRS0l9"
      },
      "execution_count": 6,
      "outputs": []
    },
    {
      "cell_type": "code",
      "source": [
        "segment_sentences(text)"
      ],
      "metadata": {
        "colab": {
          "base_uri": "https://localhost:8080/"
        },
        "id": "n7l4ZesfS0or",
        "outputId": "3801880b-fc7c-4f7b-8f15-73ec0ba1484a"
      },
      "execution_count": 10,
      "outputs": [
        {
          "output_type": "execute_result",
          "data": {
            "text/plain": [
              "['Diwali (English: /dɪˈwɑːliː/; Deepavali[3] (IAST: dīpāvalī) or Divali;[a]) is the Hindu festival of lights with its variations also celebrated in other Indian religions.',\n",
              " 'It symbolises the spiritual \"victory of light over darkness, good over evil, and knowledge over ignorance\".[4][5][6][7] Diwali is celebrated during the Hindu lunisolar months of Ashvin (according to the amanta tradition) and Kartika—between around mid-September and mid-November.[8][9][10][11] The celebrations generally last five or six days.[12][13]\\nDiwali is connected to various religious events, deities and personalities, such as being the day Rama returned to his kingdom in Ayodhya with his wife Sita and his brother Lakshmana after defeating the demon king Ravana.[14] It is also widely associated with Lakshmi, the goddess of prosperity, and Ganesha, the god of wisdom and the remover of obstacles.[15] Other regional traditions connect the holiday to Vishnu, Krishna, Durga, Shiva, Kali, Hanuman, Kubera, Yama, Yami, Dhanvantari, or Vishvakarman.']"
            ]
          },
          "metadata": {},
          "execution_count": 10
        }
      ]
    },
    {
      "cell_type": "markdown",
      "source": [
        "# Tokenization"
      ],
      "metadata": {
        "id": "2zDR9VpyTvCl"
      }
    },
    {
      "cell_type": "code",
      "source": [
        "def tokenize_document(document):\n",
        "  pattern = r\"[\\s.,;!?()]+|[.,;!?()]\"\n",
        "  tokens = re.split(pattern, document)\n",
        "  tokens = [token for token in tokens if token]\n",
        "  return tokens"
      ],
      "metadata": {
        "id": "qgrdIbsCS0tL"
      },
      "execution_count": 8,
      "outputs": []
    },
    {
      "cell_type": "code",
      "source": [
        "tokenize_document(text)"
      ],
      "metadata": {
        "colab": {
          "base_uri": "https://localhost:8080/"
        },
        "id": "Oh_4TNGOS0v8",
        "outputId": "ce294d2f-147b-4f44-a866-617e1bf7d855"
      },
      "execution_count": 11,
      "outputs": [
        {
          "output_type": "execute_result",
          "data": {
            "text/plain": [
              "['Diwali',\n",
              " 'English:',\n",
              " '/dɪˈwɑːliː/',\n",
              " 'Deepavali[3]',\n",
              " 'IAST:',\n",
              " 'dīpāvalī',\n",
              " 'or',\n",
              " 'Divali',\n",
              " '[a]',\n",
              " 'is',\n",
              " 'the',\n",
              " 'Hindu',\n",
              " 'festival',\n",
              " 'of',\n",
              " 'lights',\n",
              " 'with',\n",
              " 'its',\n",
              " 'variations',\n",
              " 'also',\n",
              " 'celebrated',\n",
              " 'in',\n",
              " 'other',\n",
              " 'Indian',\n",
              " 'religions',\n",
              " 'It',\n",
              " 'symbolises',\n",
              " 'the',\n",
              " 'spiritual',\n",
              " '\"victory',\n",
              " 'of',\n",
              " 'light',\n",
              " 'over',\n",
              " 'darkness',\n",
              " 'good',\n",
              " 'over',\n",
              " 'evil',\n",
              " 'and',\n",
              " 'knowledge',\n",
              " 'over',\n",
              " 'ignorance\"',\n",
              " '[4][5][6][7]',\n",
              " 'Diwali',\n",
              " 'is',\n",
              " 'celebrated',\n",
              " 'during',\n",
              " 'the',\n",
              " 'Hindu',\n",
              " 'lunisolar',\n",
              " 'months',\n",
              " 'of',\n",
              " 'Ashvin',\n",
              " 'according',\n",
              " 'to',\n",
              " 'the',\n",
              " 'amanta',\n",
              " 'tradition',\n",
              " 'and',\n",
              " 'Kartika—between',\n",
              " 'around',\n",
              " 'mid-September',\n",
              " 'and',\n",
              " 'mid-November',\n",
              " '[8][9][10][11]',\n",
              " 'The',\n",
              " 'celebrations',\n",
              " 'generally',\n",
              " 'last',\n",
              " 'five',\n",
              " 'or',\n",
              " 'six',\n",
              " 'days',\n",
              " '[12][13]',\n",
              " 'Diwali',\n",
              " 'is',\n",
              " 'connected',\n",
              " 'to',\n",
              " 'various',\n",
              " 'religious',\n",
              " 'events',\n",
              " 'deities',\n",
              " 'and',\n",
              " 'personalities',\n",
              " 'such',\n",
              " 'as',\n",
              " 'being',\n",
              " 'the',\n",
              " 'day',\n",
              " 'Rama',\n",
              " 'returned',\n",
              " 'to',\n",
              " 'his',\n",
              " 'kingdom',\n",
              " 'in',\n",
              " 'Ayodhya',\n",
              " 'with',\n",
              " 'his',\n",
              " 'wife',\n",
              " 'Sita',\n",
              " 'and',\n",
              " 'his',\n",
              " 'brother',\n",
              " 'Lakshmana',\n",
              " 'after',\n",
              " 'defeating',\n",
              " 'the',\n",
              " 'demon',\n",
              " 'king',\n",
              " 'Ravana',\n",
              " '[14]',\n",
              " 'It',\n",
              " 'is',\n",
              " 'also',\n",
              " 'widely',\n",
              " 'associated',\n",
              " 'with',\n",
              " 'Lakshmi',\n",
              " 'the',\n",
              " 'goddess',\n",
              " 'of',\n",
              " 'prosperity',\n",
              " 'and',\n",
              " 'Ganesha',\n",
              " 'the',\n",
              " 'god',\n",
              " 'of',\n",
              " 'wisdom',\n",
              " 'and',\n",
              " 'the',\n",
              " 'remover',\n",
              " 'of',\n",
              " 'obstacles',\n",
              " '[15]',\n",
              " 'Other',\n",
              " 'regional',\n",
              " 'traditions',\n",
              " 'connect',\n",
              " 'the',\n",
              " 'holiday',\n",
              " 'to',\n",
              " 'Vishnu',\n",
              " 'Krishna',\n",
              " 'Durga',\n",
              " 'Shiva',\n",
              " 'Kali',\n",
              " 'Hanuman',\n",
              " 'Kubera',\n",
              " 'Yama',\n",
              " 'Yami',\n",
              " 'Dhanvantari',\n",
              " 'or',\n",
              " 'Vishvakarman']"
            ]
          },
          "metadata": {},
          "execution_count": 11
        }
      ]
    },
    {
      "cell_type": "markdown",
      "source": [
        "# Stemming"
      ],
      "metadata": {
        "id": "UJNIwg60Ua85"
      }
    },
    {
      "cell_type": "code",
      "source": [
        "import nltk\n",
        "from nltk.stem import PorterStemmer"
      ],
      "metadata": {
        "id": "OAaV3jwhUNuU"
      },
      "execution_count": 12,
      "outputs": []
    },
    {
      "cell_type": "code",
      "source": [
        "stemmer = PorterStemmer()\n"
      ],
      "metadata": {
        "id": "G4K5r-aQUgJV"
      },
      "execution_count": 13,
      "outputs": []
    },
    {
      "cell_type": "code",
      "source": [
        "def stem_words(words):\n",
        "  return [stemmer.stem(word) for word in words]"
      ],
      "metadata": {
        "id": "M6zSrXbOUjfO"
      },
      "execution_count": 14,
      "outputs": []
    },
    {
      "cell_type": "code",
      "source": [
        "words = [\"running\", \"flies\", \"happily\", \"denied\"]\n",
        "stemmed_words = stem_words(words)\n",
        "stemmed_words"
      ],
      "metadata": {
        "colab": {
          "base_uri": "https://localhost:8080/"
        },
        "id": "4M9PaVHPUp3T",
        "outputId": "168b0284-1688-4e67-fa98-7cc5a19769ce"
      },
      "execution_count": 15,
      "outputs": [
        {
          "output_type": "execute_result",
          "data": {
            "text/plain": [
              "['run', 'fli', 'happili', 'deni']"
            ]
          },
          "metadata": {},
          "execution_count": 15
        }
      ]
    },
    {
      "cell_type": "markdown",
      "source": [
        "# Lemmatization"
      ],
      "metadata": {
        "id": "pXEOIZf7U04j"
      }
    },
    {
      "cell_type": "code",
      "source": [
        "import spacy\n",
        "nlp = spacy.load(\"en_core_web_sm\")"
      ],
      "metadata": {
        "id": "1Uj5kF1mUzDL"
      },
      "execution_count": 16,
      "outputs": []
    },
    {
      "cell_type": "code",
      "source": [
        "def lemmatize_sentence(sentence):\n",
        "  doc = nlp(sentence)\n",
        "  return [token.lemma_ for token in doc]"
      ],
      "metadata": {
        "id": "P6-a-bhUU-EM"
      },
      "execution_count": 17,
      "outputs": []
    },
    {
      "cell_type": "code",
      "source": [
        "sentence = \"The cats are running faster than the dogs\"\n",
        "lemmas = lemmatize_sentence(sentence)\n",
        "lemmas"
      ],
      "metadata": {
        "colab": {
          "base_uri": "https://localhost:8080/"
        },
        "id": "QgWH_8IYVHCF",
        "outputId": "876caa99-e169-4296-998e-7ce07d011270"
      },
      "execution_count": 18,
      "outputs": [
        {
          "output_type": "execute_result",
          "data": {
            "text/plain": [
              "['the', 'cat', 'be', 'run', 'fast', 'than', 'the', 'dog']"
            ]
          },
          "metadata": {},
          "execution_count": 18
        }
      ]
    },
    {
      "cell_type": "markdown",
      "source": [
        "# Stopwords"
      ],
      "metadata": {
        "id": "GnDk5KiJVRqb"
      }
    },
    {
      "cell_type": "code",
      "source": [
        "import nltk\n",
        "from nltk.corpus import stopwords\n",
        "from nltk.tokenize import word_tokenize"
      ],
      "metadata": {
        "id": "AqFhzRcIVOYU"
      },
      "execution_count": 19,
      "outputs": []
    },
    {
      "cell_type": "code",
      "source": [
        "nltk.download('stopwords')\n",
        "nltk.download('punkt')"
      ],
      "metadata": {
        "colab": {
          "base_uri": "https://localhost:8080/"
        },
        "id": "oCGnfBiGVdSV",
        "outputId": "4ee148c2-cc4f-4632-f810-612c43edb1fd"
      },
      "execution_count": 20,
      "outputs": [
        {
          "output_type": "stream",
          "name": "stderr",
          "text": [
            "[nltk_data] Downloading package stopwords to /root/nltk_data...\n",
            "[nltk_data]   Unzipping corpora/stopwords.zip.\n",
            "[nltk_data] Downloading package punkt to /root/nltk_data...\n",
            "[nltk_data]   Unzipping tokenizers/punkt.zip.\n"
          ]
        },
        {
          "output_type": "execute_result",
          "data": {
            "text/plain": [
              "True"
            ]
          },
          "metadata": {},
          "execution_count": 20
        }
      ]
    },
    {
      "cell_type": "code",
      "source": [
        "def identify_stopwords(sentence):\n",
        "  stop_words = set(stopwords.words('english'))\n",
        "  words = word_tokenize(sentence)\n",
        "  return [word for word in words if word.lower() in stop_words]\n",
        ""
      ],
      "metadata": {
        "id": "0OM2Egd_Vhdl"
      },
      "execution_count": 21,
      "outputs": []
    },
    {
      "cell_type": "code",
      "source": [
        "sentence = \"This is a sample sentence and it contains some stop words\"\n",
        "identify_stopwords(sentence)"
      ],
      "metadata": {
        "colab": {
          "base_uri": "https://localhost:8080/"
        },
        "id": "UrEwbLlpV-2t",
        "outputId": "fc60cc9f-a7b5-457e-8855-1fbb02d78e43"
      },
      "execution_count": 22,
      "outputs": [
        {
          "output_type": "execute_result",
          "data": {
            "text/plain": [
              "['This', 'is', 'a', 'and', 'it', 'some']"
            ]
          },
          "metadata": {},
          "execution_count": 22
        }
      ]
    },
    {
      "cell_type": "markdown",
      "source": [
        "# Parts of Speech Tagging"
      ],
      "metadata": {
        "id": "vNNtV6dMWKYG"
      }
    },
    {
      "cell_type": "code",
      "source": [
        "import spacy"
      ],
      "metadata": {
        "id": "kIJ77Zl8WHOb"
      },
      "execution_count": 23,
      "outputs": []
    },
    {
      "cell_type": "code",
      "source": [
        "nlp = spacy.load(\"en_core_web_sm\")"
      ],
      "metadata": {
        "id": "L4TMh-OGWVoU"
      },
      "execution_count": 24,
      "outputs": []
    },
    {
      "cell_type": "code",
      "source": [
        "def pos_tagging(sentences):\n",
        "  doc = nlp(sentence)\n",
        "  pos_tags = [(token.text, token.pos_) for token in doc]\n",
        "  return pos_tags"
      ],
      "metadata": {
        "id": "Mpec4ojEWYza"
      },
      "execution_count": 25,
      "outputs": []
    },
    {
      "cell_type": "code",
      "source": [
        "sentence = \"The quick brown fox jumps over the lazy dog\"\n",
        "tags = pos_tagging(sentence)\n",
        "for word, pos in tags:\n",
        "  print(f\"{word} -> {pos}\")"
      ],
      "metadata": {
        "colab": {
          "base_uri": "https://localhost:8080/"
        },
        "id": "Ub9eisgBWkPt",
        "outputId": "ea982cbb-a419-44f1-90b0-fbf6f0e31428"
      },
      "execution_count": 26,
      "outputs": [
        {
          "output_type": "stream",
          "name": "stdout",
          "text": [
            "The -> DET\n",
            "quick -> ADJ\n",
            "brown -> ADJ\n",
            "fox -> NOUN\n",
            "jumps -> VERB\n",
            "over -> ADP\n",
            "the -> DET\n",
            "lazy -> ADJ\n",
            "dog -> NOUN\n"
          ]
        }
      ]
    },
    {
      "cell_type": "markdown",
      "source": [
        "# Dependency Parsing\n",
        "\n",
        "- Identify how words relate to each other in terms of grammatical functions\n",
        "- A sentence is viewed as a directed graph\n",
        "  - Words are nodes\n",
        "  - Grammatical relationships between words are directed edges"
      ],
      "metadata": {
        "id": "xISJrC46W0Hz"
      }
    },
    {
      "cell_type": "code",
      "source": [
        "import spacy\n",
        "from spacy import displacy"
      ],
      "metadata": {
        "id": "9p-6F_55WyhV"
      },
      "execution_count": 27,
      "outputs": []
    },
    {
      "cell_type": "code",
      "source": [
        "nlp = spacy.load('en_core_web_sm')"
      ],
      "metadata": {
        "id": "lgTMp21dXR9z"
      },
      "execution_count": 28,
      "outputs": []
    },
    {
      "cell_type": "code",
      "source": [
        "def parse_dependencies(sentence):\n",
        "  doc = nlp(sentence)\n",
        "  displacy.render(doc, style=\"dep\", jupyter=True)"
      ],
      "metadata": {
        "id": "nTrvCMXMXU7d"
      },
      "execution_count": 31,
      "outputs": []
    },
    {
      "cell_type": "code",
      "source": [
        "sentence = \"The cat sat on the mat.\"\n",
        "parse_dependencies(sentence)"
      ],
      "metadata": {
        "colab": {
          "base_uri": "https://localhost:8080/",
          "height": 333
        },
        "id": "aG82Tue4XjpN",
        "outputId": "c30ff347-3bb0-49f9-808b-5cbcd4cdcb45"
      },
      "execution_count": 32,
      "outputs": [
        {
          "output_type": "display_data",
          "data": {
            "text/plain": [
              "<IPython.core.display.HTML object>"
            ],
            "text/html": [
              "<span class=\"tex2jax_ignore\"><svg xmlns=\"http://www.w3.org/2000/svg\" xmlns:xlink=\"http://www.w3.org/1999/xlink\" xml:lang=\"en\" id=\"f38d47253c4c427b9026ddd2b8353093-0\" class=\"displacy\" width=\"1100\" height=\"312.0\" direction=\"ltr\" style=\"max-width: none; height: 312.0px; color: #000000; background: #ffffff; font-family: Arial; direction: ltr\">\n",
              "<text class=\"displacy-token\" fill=\"currentColor\" text-anchor=\"middle\" y=\"222.0\">\n",
              "    <tspan class=\"displacy-word\" fill=\"currentColor\" x=\"50\">The</tspan>\n",
              "    <tspan class=\"displacy-tag\" dy=\"2em\" fill=\"currentColor\" x=\"50\">DET</tspan>\n",
              "</text>\n",
              "\n",
              "<text class=\"displacy-token\" fill=\"currentColor\" text-anchor=\"middle\" y=\"222.0\">\n",
              "    <tspan class=\"displacy-word\" fill=\"currentColor\" x=\"225\">cat</tspan>\n",
              "    <tspan class=\"displacy-tag\" dy=\"2em\" fill=\"currentColor\" x=\"225\">NOUN</tspan>\n",
              "</text>\n",
              "\n",
              "<text class=\"displacy-token\" fill=\"currentColor\" text-anchor=\"middle\" y=\"222.0\">\n",
              "    <tspan class=\"displacy-word\" fill=\"currentColor\" x=\"400\">sat</tspan>\n",
              "    <tspan class=\"displacy-tag\" dy=\"2em\" fill=\"currentColor\" x=\"400\">VERB</tspan>\n",
              "</text>\n",
              "\n",
              "<text class=\"displacy-token\" fill=\"currentColor\" text-anchor=\"middle\" y=\"222.0\">\n",
              "    <tspan class=\"displacy-word\" fill=\"currentColor\" x=\"575\">on</tspan>\n",
              "    <tspan class=\"displacy-tag\" dy=\"2em\" fill=\"currentColor\" x=\"575\">ADP</tspan>\n",
              "</text>\n",
              "\n",
              "<text class=\"displacy-token\" fill=\"currentColor\" text-anchor=\"middle\" y=\"222.0\">\n",
              "    <tspan class=\"displacy-word\" fill=\"currentColor\" x=\"750\">the</tspan>\n",
              "    <tspan class=\"displacy-tag\" dy=\"2em\" fill=\"currentColor\" x=\"750\">DET</tspan>\n",
              "</text>\n",
              "\n",
              "<text class=\"displacy-token\" fill=\"currentColor\" text-anchor=\"middle\" y=\"222.0\">\n",
              "    <tspan class=\"displacy-word\" fill=\"currentColor\" x=\"925\">mat.</tspan>\n",
              "    <tspan class=\"displacy-tag\" dy=\"2em\" fill=\"currentColor\" x=\"925\">NOUN</tspan>\n",
              "</text>\n",
              "\n",
              "<g class=\"displacy-arrow\">\n",
              "    <path class=\"displacy-arc\" id=\"arrow-f38d47253c4c427b9026ddd2b8353093-0-0\" stroke-width=\"2px\" d=\"M70,177.0 C70,89.5 220.0,89.5 220.0,177.0\" fill=\"none\" stroke=\"currentColor\"/>\n",
              "    <text dy=\"1.25em\" style=\"font-size: 0.8em; letter-spacing: 1px\">\n",
              "        <textPath xlink:href=\"#arrow-f38d47253c4c427b9026ddd2b8353093-0-0\" class=\"displacy-label\" startOffset=\"50%\" side=\"left\" fill=\"currentColor\" text-anchor=\"middle\">det</textPath>\n",
              "    </text>\n",
              "    <path class=\"displacy-arrowhead\" d=\"M70,179.0 L62,167.0 78,167.0\" fill=\"currentColor\"/>\n",
              "</g>\n",
              "\n",
              "<g class=\"displacy-arrow\">\n",
              "    <path class=\"displacy-arc\" id=\"arrow-f38d47253c4c427b9026ddd2b8353093-0-1\" stroke-width=\"2px\" d=\"M245,177.0 C245,89.5 395.0,89.5 395.0,177.0\" fill=\"none\" stroke=\"currentColor\"/>\n",
              "    <text dy=\"1.25em\" style=\"font-size: 0.8em; letter-spacing: 1px\">\n",
              "        <textPath xlink:href=\"#arrow-f38d47253c4c427b9026ddd2b8353093-0-1\" class=\"displacy-label\" startOffset=\"50%\" side=\"left\" fill=\"currentColor\" text-anchor=\"middle\">nsubj</textPath>\n",
              "    </text>\n",
              "    <path class=\"displacy-arrowhead\" d=\"M245,179.0 L237,167.0 253,167.0\" fill=\"currentColor\"/>\n",
              "</g>\n",
              "\n",
              "<g class=\"displacy-arrow\">\n",
              "    <path class=\"displacy-arc\" id=\"arrow-f38d47253c4c427b9026ddd2b8353093-0-2\" stroke-width=\"2px\" d=\"M420,177.0 C420,89.5 570.0,89.5 570.0,177.0\" fill=\"none\" stroke=\"currentColor\"/>\n",
              "    <text dy=\"1.25em\" style=\"font-size: 0.8em; letter-spacing: 1px\">\n",
              "        <textPath xlink:href=\"#arrow-f38d47253c4c427b9026ddd2b8353093-0-2\" class=\"displacy-label\" startOffset=\"50%\" side=\"left\" fill=\"currentColor\" text-anchor=\"middle\">prep</textPath>\n",
              "    </text>\n",
              "    <path class=\"displacy-arrowhead\" d=\"M570.0,179.0 L578.0,167.0 562.0,167.0\" fill=\"currentColor\"/>\n",
              "</g>\n",
              "\n",
              "<g class=\"displacy-arrow\">\n",
              "    <path class=\"displacy-arc\" id=\"arrow-f38d47253c4c427b9026ddd2b8353093-0-3\" stroke-width=\"2px\" d=\"M770,177.0 C770,89.5 920.0,89.5 920.0,177.0\" fill=\"none\" stroke=\"currentColor\"/>\n",
              "    <text dy=\"1.25em\" style=\"font-size: 0.8em; letter-spacing: 1px\">\n",
              "        <textPath xlink:href=\"#arrow-f38d47253c4c427b9026ddd2b8353093-0-3\" class=\"displacy-label\" startOffset=\"50%\" side=\"left\" fill=\"currentColor\" text-anchor=\"middle\">det</textPath>\n",
              "    </text>\n",
              "    <path class=\"displacy-arrowhead\" d=\"M770,179.0 L762,167.0 778,167.0\" fill=\"currentColor\"/>\n",
              "</g>\n",
              "\n",
              "<g class=\"displacy-arrow\">\n",
              "    <path class=\"displacy-arc\" id=\"arrow-f38d47253c4c427b9026ddd2b8353093-0-4\" stroke-width=\"2px\" d=\"M595,177.0 C595,2.0 925.0,2.0 925.0,177.0\" fill=\"none\" stroke=\"currentColor\"/>\n",
              "    <text dy=\"1.25em\" style=\"font-size: 0.8em; letter-spacing: 1px\">\n",
              "        <textPath xlink:href=\"#arrow-f38d47253c4c427b9026ddd2b8353093-0-4\" class=\"displacy-label\" startOffset=\"50%\" side=\"left\" fill=\"currentColor\" text-anchor=\"middle\">pobj</textPath>\n",
              "    </text>\n",
              "    <path class=\"displacy-arrowhead\" d=\"M925.0,179.0 L933.0,167.0 917.0,167.0\" fill=\"currentColor\"/>\n",
              "</g>\n",
              "</svg></span>"
            ]
          },
          "metadata": {}
        }
      ]
    },
    {
      "cell_type": "markdown",
      "source": [
        "# Ambiguity and Challenges in NLP\n",
        "\n",
        "There are 3 kinds of Ambiguity\n",
        "\n",
        "1. Lexical Ambiguity\n",
        "- Lexical  Ambiguity exists in the presence of 2 or more possible meanings of the sentence within a single word.\n",
        "- Example: Tom is looking for a **match**\n",
        "  - It could be that either \"Tom is looking for a partner\" or \"Tom is looking to play a game.\"\n",
        "\n",
        "2. Syntactic Ambiguity\n",
        "- Syntactic Ambiguity exists in the presence of 2 or more possible meanings within the sentence\n",
        "- Example: I saw Nancy with a binocular\n",
        "  - It could be that either Nancy had binoculars or I spotted Nancy with binoculars\n",
        "\n",
        "3. Referential Ambiguity\n",
        "- Referential Ambiguity exists when you are referring to something using the pronoun\n",
        "- Example: Jay went to meet Tina. She said, \"I am hungry\"\n",
        "  - Who is hungry - Tina or Jay?"
      ],
      "metadata": {
        "id": "AGp0jRz9Ykto"
      }
    },
    {
      "cell_type": "code",
      "source": [],
      "metadata": {
        "id": "PJHZbNNLXo5j"
      },
      "execution_count": null,
      "outputs": []
    }
  ]
}